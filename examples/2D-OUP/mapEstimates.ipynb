{
 "cells": [
  {
   "cell_type": "code",
   "execution_count": 1,
   "metadata": {
    "collapsed": true
   },
   "outputs": [],
   "source": [
    "%matplotlib inline\n",
    "from __future__ import division\n",
    "import numpy as np\n",
    "import matplotlib.pyplot as plt\n",
    "from scipy.linalg import logm"
   ]
  },
  {
   "cell_type": "code",
   "execution_count": 2,
   "metadata": {
    "collapsed": false
   },
   "outputs": [],
   "source": [
    "class HarmonicOscillator:\n",
    "    def __init__(self, N, m, T, D, k, kB, fs, dt, g, w0, w, tau ):\n",
    "        self.N   =  N           # # of data points\n",
    "        self.m   =  m           # mass\n",
    "        self.T   =  T           # temperature\n",
    "        self.D   =  D           # diffusion constant\n",
    "        self.k   =  k           # stiffness\n",
    "        self.kB  =  kB          # Boltzmann constant\n",
    "        self.fs  =  fs          # sampling frequency\n",
    "        self.dt  =  dt          # step size\n",
    "        self.g   =  g           # gamma\n",
    "        self.w0  =  w0          # natural frequency\n",
    "        self.w   =  w           # frequency\n",
    "        self.tau =  tau         # relaxation time\n",
    "\n",
    "        \n",
    "    def calcSigma(self):\n",
    "        kmw  = self.k/(self.m*self.w*self.w);   \n",
    "        dtbt = -self.dt/self.tau; ee=np.exp(dtbt);  \n",
    "        dd   = D/(self.w*self.w*self.tau*self.tau);  \n",
    "        tt   = self.w*self.dt;   cc  = np.cos(tt);  ss=np.sin(tt)\n",
    "                \n",
    "        s1 = (self.kB*self.T/self.k)*(1-ee*(kmw*ss*ss+(cc+ss/(2*self.w*self.tau))**2))\n",
    "        s2 = dd*ee*ss*ss\n",
    "        s3 = (self.kB*self.T/self.m)*(1-ee*(kmw*ss*ss+(cc-ss/(2*self.w*self.tau))**2)) \n",
    "        return s1, s3, s2\n",
    "\n",
    "\n",
    "    def calcLambda(self):\n",
    "        ii  = np.eye(2)\n",
    "        ll = np.asanyarray([[0, -1], [self.k/self.m, self.g/self.m]])\n",
    "        ee = np.exp(-self.dt/(2*self.tau)); wt2=2*self.w*self.tau\n",
    "        cc=np.cos(self.w*dt); ss=np.sin(self.w*dt) \n",
    "\n",
    "        Lambda = ee*((cc+ss/wt2)*ii - ll*ss/self.w ) \n",
    "        return np.real(Lambda)\n",
    "\n",
    "\n",
    "    def calcXV(self, Lambda, Sigma):\n",
    "        x = np.zeros([N,1])\n",
    "        v = np.zeros([N,1])\n",
    "\n",
    "        s1, s3, s2 = Sigma\n",
    "\n",
    "        for j in np.arange(0,N-1):\n",
    "            oldvec = np.array([x[j],v[j]])\n",
    "            randgauss = np.random.randn(2,1)\n",
    "            delx = np.sqrt(s1)*randgauss[0]\n",
    "            delv = (s2/(np.sqrt(s1)))*randgauss[0]+(np.sqrt(s3 - ((s2**2)/(s1))))*randgauss[1]\n",
    "            delvec = np.array([delx,delv])\n",
    "            updatevec = np.dot(Lambda,oldvec)+delvec\n",
    "            x[j+1] = updatevec[0]\n",
    "            v[j+1] = updatevec[1]\n",
    "        return x,v"
   ]
  },
  {
   "cell_type": "code",
   "execution_count": 3,
   "metadata": {
    "collapsed": false
   },
   "outputs": [],
   "source": [
    "#parameters in SI units\n",
    "N   = 2**18            \n",
    "m   = 2e-12             \n",
    "T   = 300               \n",
    "k   = 300e-6            \n",
    "gf  = 30    \n",
    "fs  = 2**14         \n",
    "dt  = 1/fs\n",
    "gc  = np.sqrt(4*m*k)\n",
    "gg  = gc/gf #\n",
    "w0  = np.sqrt(k/m)\n",
    "tau = m/gg\n",
    "w   = np.sqrt((w0**2)-(1/(4*tau*tau)))\n",
    "kB  = 1.38064881313131e-23  \n",
    "D   = kB*T/gg\n",
    "\n",
    "HO = HarmonicOscillator(N, m, T, D, k, kB, fs, dt, gg, w0, w, tau)\n",
    "Lambda = HO.calcLambda()\n",
    "Sigma  = HO.calcSigma()\n",
    "x, v   = HO.calcXV(Lambda, Sigma)"
   ]
  },
  {
   "cell_type": "markdown",
   "metadata": {},
   "source": [
    "## Bayes I"
   ]
  },
  {
   "cell_type": "code",
   "execution_count": 4,
   "metadata": {
    "collapsed": false
   },
   "outputs": [],
   "source": [
    "# matrix sufficient statistics\n",
    "T1_11 = np.sum(x[1:]**2)\n",
    "T1_12 = np.sum(x[1:]*v[1:])\n",
    "T1_21 = T1_12\n",
    "T1_22 = np.sum(v[1:]**2)\n",
    "\n",
    "T2_11 = np.sum(x[1:]*x[:-1])\n",
    "T2_12 = np.sum(x[1:]*v[:-1])\n",
    "T2_21 = np.sum(v[1:]*x[:-1])\n",
    "T2_22 = np.sum(v[1:]*v[:-1])\n",
    "\n",
    "T3_11 = np.sum(x[:-1]*x[:-1])\n",
    "T3_12 = np.sum(x[:-1]*v[:-1])\n",
    "T3_21 = T3_12\n",
    "T3_22 = np.sum(v[:-1]*v[:-1])\n",
    "\n",
    "T1 = np.matrix([[T1_11,T1_12],[T1_21,T1_22]])\n",
    "T2 = np.matrix([[T2_11,T2_12],[T2_21,T2_22]])\n",
    "T3 = np.matrix([[T3_11,T3_12],[T3_21,T3_22]])\n",
    "\n",
    "\n",
    "invT3     = np.linalg.inv(T3)\n",
    "LambdaMAP = np.dot(T2, invT3)\n",
    "SigmaMAP  = (1/N)*( T1 - np.dot( T2, np.dot(invT3, T2.transpose()) ) )\n",
    "\n",
    "L_t  = LambdaMAP.transpose()\n",
    "eps  = np.asanyarray([[1,0],[0,-1]])\n",
    "\n",
    "L_te = np.dot(eps, L_t)\n",
    "Lte2 = np.dot(L_te, L_te)\n",
    "\n",
    "II   = np.eye(2)\n",
    "cc   = np.linalg.inv(II - Lte2)\n",
    "cMAP = np.dot(SigmaMAP, cc)\n",
    "\n",
    "\n",
    "#MAP estimate of k and m and gamma\n",
    "ll = -logm(LambdaMAP)/dt\n",
    "m_MAP = kB*T/cMAP[1,1]\n",
    "k_MAP = kB*T/cMAP[0,0]\n",
    "g_MAP = m*ll[1,1]"
   ]
  },
  {
   "cell_type": "markdown",
   "metadata": {},
   "source": [
    "## Bayes II"
   ]
  },
  {
   "cell_type": "code",
   "execution_count": 5,
   "metadata": {
    "collapsed": false
   },
   "outputs": [],
   "source": [
    "#MAP estimate of c using Bayes II\n",
    "c_B2 = T3/N\n",
    "\n",
    "k_B2 = kB*T/c_B2[0,0]\n",
    "m_B2 = kB*T/c_B2[1,1]\n"
   ]
  },
  {
   "cell_type": "code",
   "execution_count": 6,
   "metadata": {
    "collapsed": false
   },
   "outputs": [
    {
     "name": "stdout",
     "output_type": "stream",
     "text": [
      "\t\t simulation\t Bayes I\t Bayes II\n",
      "\n",
      "mass      \t 2.0000e-12\t  1.9763e-12\t 1.9704e-12\t\n",
      "stiffness \t 3.0000e-04\t  3.0836e-04\t 2.9572e-04\t\n",
      "friction  \t 1.6330e-09\t  1.6012e-09\t\n"
     ]
    }
   ],
   "source": [
    "print '\\t\\t simulation\\t Bayes I\\t Bayes II'\n",
    "print \n",
    "print ('mass      \\t %2.4e\\t  %2.4e\\t %2.4e\\t'%(m, m_MAP, m_B2))\n",
    "print ('stiffness \\t %2.4e\\t  %2.4e\\t %2.4e\\t'%(k, k_MAP, k_B2))\n",
    "print ('friction  \\t %2.4e\\t  %2.4e\\t'%(       gg, g_MAP))"
   ]
  }
 ],
 "metadata": {
  "kernelspec": {
   "display_name": "Python 2",
   "language": "python",
   "name": "python2"
  },
  "language_info": {
   "codemirror_mode": {
    "name": "ipython",
    "version": 2
   },
   "file_extension": ".py",
   "mimetype": "text/x-python",
   "name": "python",
   "nbconvert_exporter": "python",
   "pygments_lexer": "ipython2",
   "version": "2.7.13"
  }
 },
 "nbformat": 4,
 "nbformat_minor": 0
}
